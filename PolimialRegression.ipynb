{
 "cells": [
  {
   "cell_type": "markdown",
   "metadata": {},
   "source": [
    "# Least Squares Polinomial Regression \n",
    "#### Approximation of a function with a n-th degree polinomial"
   ]
  },
  {
   "cell_type": "code",
   "execution_count": 1,
   "metadata": {
    "collapsed": true
   },
   "outputs": [],
   "source": [
    "#Numerical stuff\n",
    "import numpy as np\n",
    "from scipy import linalg\n",
    "#Plotting\n",
    "from matplotlib import pyplot as plt"
   ]
  },
  {
   "cell_type": "markdown",
   "metadata": {},
   "source": [
    "####  this is the result function, you pass the X and the Y of the function and the degree of the polinomy you want and you get the coefficent in ascent order of degree"
   ]
  },
  {
   "cell_type": "code",
   "execution_count": 2,
   "metadata": {
    "collapsed": true
   },
   "outputs": [],
   "source": [
    "def polinomialRegression(X,Y,degree=2):\n",
    "    degree += 1\n",
    "    #creating B\n",
    "    B = np.zeros((degree,degree))\n",
    "    B[0,0] = len(Y)\n",
    "\n",
    "    for i1,x in enumerate(B):\n",
    "        for i2,y in enumerate(x[:degree-i1]):\n",
    "            B[i1,i1+i2] = np.sum(X**(2*i1+i2))\n",
    "\n",
    "    B += np.transpose(B)\n",
    "    B[np.eye(degree) == 1] /= 2\n",
    "    \n",
    "    #creating C\n",
    "    C = np.zeros((degree,1))\n",
    "    for i,x in enumerate(C):\n",
    "        C[i] = np.sum(np.multiply(Y,X**i))\n",
    "        \n",
    "    #solving AB=C for A\n",
    "    A = linalg.solve(B,C)\n",
    "    \n",
    "    return A"
   ]
  },
  {
   "cell_type": "raw",
   "metadata": {},
   "source": [
    "to get the result you can do something like this:\n",
    "y = np.zeros_like(Y)\n",
    "for i,coeff in enumerate(A):\n",
    "    y += coeff*X**i"
   ]
  },
  {
   "cell_type": "markdown",
   "metadata": {
    "collapsed": false
   },
   "source": [
    "#### we want an approximation function in the form of:\n",
    "### $a_0+a_1x+a_2x^2+...+a_kx^k$"
   ]
  },
  {
   "cell_type": "markdown",
   "metadata": {},
   "source": [
    "#### and we want to minime the squared error:\n",
    "### $SError = \\sum_{i = 1}^{N}(f(x) - y)^2$"
   ]
  },
  {
   "cell_type": "markdown",
   "metadata": {},
   "source": [
    "#### so we got:\n",
    "### $ SError = \\sum_{i = 1}^{N}(a_0+a_1X_i+a_2X_i^2+...+a_kX_i^k - Y_i)^2$ \n",
    "#### we get a critical point ( min,max or seddle point) when \n",
    "$\\bigtriangledown SError = 0 \\Rightarrow  \\frac{\\partial }{\\partial a_0}SError = 0, \\frac{\\partial }{\\partial a_1}SError = 0,...,\\frac{\\partial }{\\partial a_n}SError = 0$"
   ]
  },
  {
   "cell_type": "markdown",
   "metadata": {},
   "source": [
    "### $ \\frac{\\partial }{\\partial a_0}SError = \\sum_{i = 1}^{n}2(a_0+a_1X_i+a_2X_i^2+...+a_kX_i^k - Y_i)=0$"
   ]
  },
  {
   "cell_type": "markdown",
   "metadata": {},
   "source": [
    "### $ \\frac{\\partial }{\\partial a_1}SError = \\sum_{i = 1}^{n}2(a_0+a_1X_i+a_2X_i^2+...+a_kX_i^k - Y_i)X_i=0$"
   ]
  },
  {
   "cell_type": "markdown",
   "metadata": {},
   "source": [
    "### $ \\frac{\\partial }{\\partial a_2}SError = \\sum_{i = 1}^{n}2(a_0+a_1X_i+a_2X_i^2+...+a_kX_i^k - Y_i)X_i^2=0$"
   ]
  },
  {
   "cell_type": "markdown",
   "metadata": {},
   "source": [
    "### ..."
   ]
  },
  {
   "cell_type": "markdown",
   "metadata": {},
   "source": [
    "### $ \\frac{\\partial }{\\partial a_k}SError = \\sum_{i = 1}^{n}2(a_0+a_1X_i+a_2X_i^2+...+a_kX_i^k - Y_i)X_i^k=0$"
   ]
  },
  {
   "cell_type": "markdown",
   "metadata": {},
   "source": [
    "#### now if we expand every equation we get a linear equation witch can be written as:\n",
    "#### $ A B = C$ so we can solve for A and we are done"
   ]
  },
  {
   "cell_type": "markdown",
   "metadata": {},
   "source": [
    "### $B = \\begin{pmatrix}\n",
    " N & \\sum_{i = 1}^{n}X_i & \\sum_{i = 1}^{n}X_i^2 & ...& \\sum_{i = 1}^{n}X_i^k\\\\ \n",
    "\\sum_{i = 1}^{n}X_i     &  \\sum_{i = 1}^{n}X_i^2 & \\sum_{i = 1}^{n}X_i^3  & ... & \\sum_{i = 1}^{n}X_i^{k+1}\\\\ \n",
    "\\sum_{i = 1}^{n}X_i^2& \\sum_{i = 1}^{n}X_i^3 &\\sum_{i = 1}^{n}X_i^4  &...& \\sum_{i = 1}^{n}X_i^{k+2} \\\\\n",
    "...  & ... & ... & ... &...\\\\\n",
    "\\sum_{i = 1}^{n}X_i^k& \\sum_{i = 1}^{n}X_i^{k+1} &\\sum_{i = 1}^{n}X_i^{k+2}  &  ...& \\sum_{i = 1}^{n}X_i^{2k}\n",
    "\\end{pmatrix}\n",
    "\\\\\n",
    "A = \\begin{pmatrix}a_0\\\\a_1 \\\\ a_2\\\\... \\\\ a_k\\end{pmatrix}\\\\\n",
    "C = \\begin{pmatrix}\n",
    "\\sum_{i = 1}^{N} Y_i\n",
    "\\\\\n",
    "\\sum_{i = 1}^{N} Y_iX_i\n",
    "\\\\ \n",
    "\\sum_{i = 1}^{N} Y_iX_i^2\n",
    "\\\\\n",
    "... \n",
    "\\\\ \n",
    "\\sum_{i = 1}^{N} Y_iX_i^k\n",
    "\\end{pmatrix}\n",
    "$"
   ]
  },
  {
   "cell_type": "markdown",
   "metadata": {},
   "source": [
    "# Implementation"
   ]
  },
  {
   "cell_type": "markdown",
   "metadata": {},
   "source": [
    "we start with some randomd data"
   ]
  },
  {
   "cell_type": "code",
   "execution_count": 3,
   "metadata": {
    "collapsed": true
   },
   "outputs": [],
   "source": [
    "degree = 4\n",
    "#support variables\n",
    "degree += 1\n",
    "dim = [degree,degree]"
   ]
  },
  {
   "cell_type": "code",
   "execution_count": 4,
   "metadata": {
    "collapsed": false
   },
   "outputs": [
    {
     "data": {
      "image/png": "[encoded data removed]",
      "text/plain": [
       "<matplotlib.figure.Figure at 0x1aaaaa82358>"
      ]
     },
     "metadata": {},
     "output_type": "display_data"
    }
   ],
   "source": [
    "n_of_points = 1000\n",
    "#create the data\n",
    "X = np.linspace(0,100,n_of_points)\n",
    "Y = X + 6*np.random.normal(0,1,n_of_points)\n",
    "#polot\n",
    "plt.plot(X,Y)\n",
    "plt.show()"
   ]
  },
  {
   "cell_type": "markdown",
   "metadata": {},
   "source": [
    "#### Creating the B matrix"
   ]
  },
  {
   "cell_type": "code",
   "execution_count": 5,
   "metadata": {
    "collapsed": false
   },
   "outputs": [
    {
     "name": "stdout",
     "output_type": "stream",
     "text": [
      "[[  1.00000000e+03   5.00000000e+04   3.33500167e+06   2.50250250e+08\n",
      "    2.00300334e+10]\n",
      " [  5.00000000e+04   3.33500167e+06   2.50250250e+08   2.00300334e+10\n",
      "    1.67000417e+12]\n",
      " [  3.33500167e+06   2.50250250e+08   2.00300334e+10   1.67000417e+12\n",
      "    1.43214786e+14]\n",
      " [  2.50250250e+08   2.00300334e+10   1.67000417e+12   1.43214786e+14\n",
      "    1.25375584e+16]\n",
      " [  2.00300334e+10   1.67000417e+12   1.43214786e+14   1.25375584e+16\n",
      "    1.11500667e+18]]\n"
     ]
    }
   ],
   "source": [
    "B = np.zeros((degree,degree))\n",
    "B[0,0] = len(Y)\n",
    "\n",
    "for i1,x in enumerate(B):\n",
    "    for i2,y in enumerate(x[:degree-i1]):\n",
    "        B[i1,i1+i2] = np.sum(X**(2*i1+i2))\n",
    "        \n",
    "B += np.transpose(B)\n",
    "B[np.eye(degree) == 1] /= 2\n",
    "print(B)"
   ]
  },
  {
   "cell_type": "markdown",
   "metadata": {},
   "source": [
    "#### Creating the C"
   ]
  },
  {
   "cell_type": "code",
   "execution_count": 6,
   "metadata": {
    "collapsed": false
   },
   "outputs": [
    {
     "name": "stdout",
     "output_type": "stream",
     "text": [
      "[[  5.01386193e+04]\n",
      " [  3.34571705e+06]\n",
      " [  2.50825635e+08]\n",
      " [  2.00605495e+10]\n",
      " [  1.67150829e+12]]\n"
     ]
    }
   ],
   "source": [
    "C = np.zeros((degree,1))\n",
    "for i,x in enumerate(C):\n",
    "    C[i] = np.sum(np.multiply(Y,X**i))\n",
    "print(C)"
   ]
  },
  {
   "cell_type": "markdown",
   "metadata": {},
   "source": [
    "#### Solving A B = C for A"
   ]
  },
  {
   "cell_type": "code",
   "execution_count": 7,
   "metadata": {
    "collapsed": false
   },
   "outputs": [
    {
     "name": "stdout",
     "output_type": "stream",
     "text": [
      "[[ -1.49314620e+00]\n",
      " [  1.15784357e+00]\n",
      " [ -4.71821287e-03]\n",
      " [  6.02292839e-05]\n",
      " [ -2.79458280e-07]]\n"
     ]
    }
   ],
   "source": [
    "A = linalg.solve(B,C)\n",
    "print(A)"
   ]
  },
  {
   "cell_type": "markdown",
   "metadata": {},
   "source": [
    "# Result"
   ]
  },
  {
   "cell_type": "code",
   "execution_count": 8,
   "metadata": {
    "collapsed": false
   },
   "outputs": [],
   "source": [
    "y = np.zeros_like(Y)\n",
    "for i,coeff in enumerate(A):\n",
    "    y += coeff*X**i"
   ]
  },
  {
   "cell_type": "code",
   "execution_count": 9,
   "metadata": {
    "collapsed": false
   },
   "outputs": [
    {
     "data": {
      "image/png": "[encoded data removed]",
      "text/plain": [
       "<matplotlib.figure.Figure at 0x1aaaabdbe48>"
      ]
     },
     "metadata": {},
     "output_type": "display_data"
    }
   ],
   "source": [
    "plt.plot(X,Y)\n",
    "plt.plot(X,y, linewidth=3.0)\n",
    "plt.show()"
   ]
  },
  {
   "cell_type": "code",
   "execution_count": 10,
   "metadata": {
    "collapsed": false
   },
   "outputs": [
    {
     "name": "stdout",
     "output_type": "stream",
     "text": [
      "-1.493146+1.157844*X**1-0.004718*X**2+0.000060*X**3-0.000000*X**4\n"
     ]
    }
   ],
   "source": [
    "eq = \"%f\"%A[0]\n",
    "for i,coeff in enumerate(A[1:]):\n",
    "    eq += \"+%f*X**%d\"%(coeff,i+1)\n",
    "print(eq.replace(\"+-\",\"-\"))"
   ]
  }
 ],
 "metadata": {
  "anaconda-cloud": {},
  "kernelspec": {
   "display_name": "Python [conda root]",
   "language": "python",
   "name": "conda-root-py"
  },
  "language_info": {
   "codemirror_mode": {
    "name": "ipython",
    "version": 3
   },
   "file_extension": ".py",
   "mimetype": "text/x-python",
   "name": "python",
   "nbconvert_exporter": "python",
   "pygments_lexer": "ipython3",
   "version": "3.5.2"
  }
 },
 "nbformat": 4,
 "nbformat_minor": 1
}
